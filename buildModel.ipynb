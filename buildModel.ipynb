{
 "cells": [
  {
   "cell_type": "code",
   "execution_count": 1,
   "metadata": {
    "ExecuteTime": {
     "end_time": "2021-07-24T17:17:23.004399Z",
     "start_time": "2021-07-24T17:16:33.867507Z"
    }
   },
   "outputs": [],
   "source": [
    "import pandas as pd\n",
    "import os\n",
    "import matplotlib\n",
    "%matplotlib inline\n",
    "from collections import Counter\n",
    "from sklearn.linear_model import LogisticRegression\n",
    "from sklearn.metrics import classification_report\n",
    "import numpy as np\n",
    "import seaborn as sb\n",
    "from sklearn.preprocessing import MinMaxScaler, StandardScaler\n",
    "import sklearn.metrics\n",
    "from sklearn.neighbors import KNeighborsClassifier\n",
    "import pickle\n",
    "from xgboost import XGBClassifier\n",
    "from sklearn.model_selection import StratifiedKFold, GridSearchCV\n",
    "\n",
    "import warnings\n",
    "warnings.filterwarnings(\"ignore\")\n"
   ]
  },
  {
   "cell_type": "markdown",
   "metadata": {
    "ExecuteTime": {
     "end_time": "2021-07-24T17:17:28.056464Z",
     "start_time": "2021-07-24T17:17:28.054324Z"
    }
   },
   "source": [
    "### Given the data is unbalanced we will do stratified train/test split"
   ]
  },
  {
   "cell_type": "code",
   "execution_count": 2,
   "metadata": {
    "ExecuteTime": {
     "end_time": "2021-07-24T17:20:59.363450Z",
     "start_time": "2021-07-24T17:20:59.361322Z"
    }
   },
   "outputs": [],
   "source": [
    "from sklearn.model_selection import train_test_split\n",
    "\n",
    "input_train, input_test, output_train, output_test = train_test_split(input_data, \n",
    "                                                                      output_data, \n",
    "                                                                      test_size=0.2, \n",
    "                                                                      random_state=1, \n",
    "                                                                      stratify=output_data['becameLicensed'])"
   ]
  },
  {
   "cell_type": "code",
   "execution_count": 3,
   "metadata": {
    "ExecuteTime": {
     "end_time": "2021-07-24T17:22:55.945780Z",
     "start_time": "2021-07-24T17:22:55.924675Z"
    }
   },
   "outputs": [],
   "source": [
    "model = XGBClassifier()"
   ]
  },
  {
   "cell_type": "code",
   "execution_count": 4,
   "metadata": {},
   "outputs": [],
   "source": [
    "scale_pos_weight_calc = round(len(output_train[output_train['becameLicensed']==0])/len(output_train[output_train['becameLicensed']==1]))\n",
    "\n",
    "param_grid = {'colsample_bylevel':[1,2,4],\n",
    "             'colsample_bytree':[1,2,4],\n",
    "             'gamma':[0,1,2],\n",
    "             'learning_rate':[0.1,0.2,0.4],\n",
    "             'max_delta_step':[0,1,2],\n",
    "             'n_estimators':[10,100,200],\n",
    "             'scale_pos_weight':[scale_pos_weight_calc]\n",
    "             }\n",
    "\n",
    "model = XGBClassifier()\n",
    "k_folds = StratifiedKFold(n_splits=5)\n",
    "model = GridSearchCV(model,param_grid,cv=k_folds,scoring='recall',verbose=0)"
   ]
  },
  {
   "cell_type": "code",
   "execution_count": 5,
   "metadata": {},
   "outputs": [],
   "source": [
    "model.fit(input_train,output_train)"
   ]
  },
  {
   "cell_type": "code",
   "execution_count": 6,
   "metadata": {},
   "outputs": [],
   "source": [
    "file_name = 'XGBoostMLModel.sav'"
   ]
  },
  {
   "cell_type": "code",
   "execution_count": 7,
   "metadata": {},
   "outputs": [],
   "source": [
    "pickle.dump(model,open(file_name,'wb'))"
   ]
  }
 ],
 "metadata": {
  "kernelspec": {
   "display_name": "Python 3",
   "language": "python",
   "name": "python3"
  },
  "language_info": {
   "codemirror_mode": {
    "name": "ipython",
    "version": 3
   },
   "file_extension": ".py",
   "mimetype": "text/x-python",
   "name": "python",
   "nbconvert_exporter": "python",
   "pygments_lexer": "ipython3",
   "version": "3.6.6"
  },
  "toc": {
   "base_numbering": 1,
   "nav_menu": {},
   "number_sections": true,
   "sideBar": true,
   "skip_h1_title": false,
   "title_cell": "Table of Contents",
   "title_sidebar": "Contents",
   "toc_cell": false,
   "toc_position": {},
   "toc_section_display": true,
   "toc_window_display": false
  }
 },
 "nbformat": 4,
 "nbformat_minor": 2
}
